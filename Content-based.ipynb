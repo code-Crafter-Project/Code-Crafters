{
 "cells": [
  {
   "cell_type": "code",
   "execution_count": 51,
   "metadata": {},
   "outputs": [],
   "source": [
    "#Import necessary libraries\n",
    "\n",
    "import numpy as np\n",
    "import pandas as pd\n",
    "from sklearn.feature_extraction.text import TfidfVectorizer\n",
    "from sklearn.metrics.pairwise import linear_kernel\n",
    "\n"
   ]
  },
  {
   "cell_type": "code",
   "execution_count": 52,
   "metadata": {},
   "outputs": [],
   "source": [
    "# Load the Book Data into panda DataFrame\n",
    "data = pd.read_csv(\"books.csv\")\n",
    "#print(data.head(5))"
   ]
  },
  {
   "cell_type": "code",
   "execution_count": 53,
   "metadata": {},
   "outputs": [],
   "source": [
    "\n",
    "\n",
    "#Select Title and genre Columns\n",
    "required_columns = [\"Title\", \"Genre\"]\n",
    "missing_columns = [col for col in required_columns if col not in data.columns]\n",
    "\n",
    "if missing_columns:\n",
    "    raise KeyError(f\"Columns {missing_columns} not found in the dataset.\")\n",
    "\n",
    "data = data[required_columns]"
   ]
  },
  {
   "cell_type": "code",
   "execution_count": 54,
   "metadata": {},
   "outputs": [],
   "source": [
    "# Take the User Input\n",
    "book_name = input(\"Enter a book name: \")\n",
    "genre = input(\"Enter the book's genre: \")"
   ]
  },
  {
   "cell_type": "code",
   "execution_count": 55,
   "metadata": {},
   "outputs": [],
   "source": [
    "#Filter Data by Genre\n",
    "genre_data = data[data['Genre'] == genre]"
   ]
  },
  {
   "cell_type": "code",
   "execution_count": 56,
   "metadata": {},
   "outputs": [],
   "source": [
    "#Calculate Similarity Matrix\n",
    "tfidf = TfidfVectorizer(stop_words='english')\n",
    "tfidf_matrix = tfidf.fit_transform(genre_data['Title'])\n",
    "similarity = linear_kernel(tfidf_matrix, tfidf_matrix)"
   ]
  },
  {
   "cell_type": "code",
   "execution_count": 57,
   "metadata": {},
   "outputs": [],
   "source": [
    "# Write the Book Recommendation function\n",
    "def book_recommendation(title, similarity):\n",
    "    index = genre_data[genre_data['Title'] == title].index[0]\n",
    "    similarity_scores = list(enumerate(similarity[index]))\n",
    "    similarity_scores = sorted(similarity_scores, key=lambda x: x[1], reverse=True)\n",
    "    similarity_scores = similarity_scores[1:6]  # Exclude the same book\n",
    "    book_indices = [i[0] for i in similarity_scores]\n",
    "    return genre_data['Title'].iloc[book_indices]\n",
    "\n",
    "recommended_books = book_recommendation(book_name, similarity)"
   ]
  },
  {
   "cell_type": "code",
   "execution_count": 58,
   "metadata": {},
   "outputs": [
    {
     "name": "stdout",
     "output_type": "stream",
     "text": [
      "Recommended Books:\n",
      "2      God Created the Integers\n",
      "12           Birth of a Theorem\n",
      "182          Men of Mathematics\n",
      "206    Structure and Randomness\n",
      "Name: Title, dtype: object\n"
     ]
    }
   ],
   "source": [
    "# Display 4 Book Recommendations\n",
    "print(\"Recommended Books:\")\n",
    "print(recommended_books)"
   ]
  }
 ],
 "metadata": {
  "kernelspec": {
   "display_name": "Python 3",
   "language": "python",
   "name": "python3"
  },
  "language_info": {
   "codemirror_mode": {
    "name": "ipython",
    "version": 3
   },
   "file_extension": ".py",
   "mimetype": "text/x-python",
   "name": "python",
   "nbconvert_exporter": "python",
   "pygments_lexer": "ipython3",
   "version": "3.11.5"
  },
  "orig_nbformat": 4
 },
 "nbformat": 4,
 "nbformat_minor": 2
}

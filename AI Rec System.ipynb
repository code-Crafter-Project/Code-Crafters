{
 "cells": [
  {
   "cell_type": "code",
   "execution_count": null,
   "metadata": {},
   "outputs": [],
   "source": [
    "import pandas as pd\n",
    "import numpy as np\n",
    "from scipy.sparse import csr_matrix\n",
    "from sklearn.decomposition import TruncatedSVD\n",
    "from sklearn.preprocessing import LabelEncoder\n",
    "from sklearn.feature_extraction.text import TfidfVectorizer"
   ]
  },
  {
   "cell_type": "code",
   "execution_count": null,
   "metadata": {},
   "outputs": [],
   "source": [
    "#Load the Book Data\n",
    "data = pd.read_csv(\"Book2.csv\")"
   ]
  },
  {
   "cell_type": "code",
   "execution_count": null,
   "metadata": {},
   "outputs": [],
   "source": [
    "#Take User Input\n",
    "book_title = input(\"Enter the name of a book: \")\n",
    "book_genre = input(\"Enter the genre of the book: \")"
   ]
  },
  {
   "cell_type": "code",
   "execution_count": null,
   "metadata": {},
   "outputs": [],
   "source": [
    "#Check and Drop Nulls\n",
    "data = data.dropna(subset=['book_title', 'genres'])"
   ]
  },
  {
   "cell_type": "code",
   "execution_count": null,
   "metadata": {},
   "outputs": [],
   "source": [
    "# Filter Data by Genre\n",
    "genre_data = data[data['genres'] == book_genre]"
   ]
  },
  {
   "cell_type": "code",
   "execution_count": null,
   "metadata": {},
   "outputs": [],
   "source": [
    "# Create User and Item Encoders\n",
    "user_encoder = LabelEncoder()\n",
    "item_encoder = LabelEncoder()\n",
    "\n",
    "genre_data['user_id'] = user_encoder.fit_transform(genre_data['book_title'])\n",
    "genre_data['item_id'] = item_encoder.fit_transform(genre_data['genres'])\n"
   ]
  },
  {
   "cell_type": "code",
   "execution_count": null,
   "metadata": {},
   "outputs": [],
   "source": [
    "#Preprocessing Text\n",
    "if genre_data.empty:\n",
    "    print(\"No books found for the given genre.\")\n",
    "else:\n",
    "    tfidf = TfidfVectorizer(stop_words='english')\n",
    "    book_desc_matrix = tfidf.fit_transform(genre_data['book_desc'].values.astype('U'))\n",
    "    "
   ]
  },
  {
   "cell_type": "code",
   "execution_count": null,
   "metadata": {},
   "outputs": [],
   "source": [
    "#Create User-Item Matrix\n",
    "matrix = csr_matrix((genre_data['book_rating'], (genre_data['user_id'], genre_data['item_id'])))"
   ]
  },
  {
   "cell_type": "code",
   "execution_count": null,
   "metadata": {},
   "outputs": [],
   "source": [
    "#Perform SVD\n",
    "svd = TruncatedSVD(n_components=100, random_state=42)\n",
    "matrix_svd = svd.fit_transform(book_desc_matrix)"
   ]
  },
  {
   "cell_type": "code",
   "execution_count": null,
   "metadata": {},
   "outputs": [],
   "source": [
    "#Calculate Similarity\n",
    "book_idx = item_encoder.transform([book_genre])\n",
    "book_vector = matrix_svd[book_idx]\n",
    "\n",
    "similarity_scores = matrix_svd.dot(book_vector.T).flatten()"
   ]
  },
  {
   "cell_type": "code",
   "execution_count": null,
   "metadata": {},
   "outputs": [],
   "source": [
    "#Get Top Similar Books\n",
    "valid_indices = np.isin(similarity_scores.argsort()[::-1][:5], range(len(genre_data)))\n",
    "similar_books_idx = similarity_scores.argsort()[::-1][:5][valid_indices]\n",
    "\n",
    "# Ensure the label encoding classes are consistent with the dataset's range\n",
    "item_encoder.classes_ = np.arange(len(genre_data))\n",
    "\n",
    "similar_books = item_encoder.inverse_transform(similar_books_idx)"
   ]
  },
  {
   "cell_type": "code",
   "execution_count": null,
   "metadata": {},
   "outputs": [],
   "source": [
    "#Map indices to book titles\n",
    "recommended_books = [genre_data.iloc[i] for i in similar_books_idx[:4]]\n",
    "\n",
    "# Display the recommended books\n",
    "print(\"Your Recommended Books Are:\")\n",
    "for book in recommended_books:\n",
    "    print(book)"
   ]
  }
 ],
 "metadata": {
  "kernelspec": {
   "display_name": "Python 3",
   "language": "python",
   "name": "python3"
  },
  "language_info": {
   "codemirror_mode": {
    "name": "ipython",
    "version": 3
   },
   "file_extension": ".py",
   "mimetype": "text/x-python",
   "name": "python",
   "nbconvert_exporter": "python",
   "pygments_lexer": "ipython3",
   "version": "3.11.5"
  },
  "orig_nbformat": 4
 },
 "nbformat": 4,
 "nbformat_minor": 2
}
